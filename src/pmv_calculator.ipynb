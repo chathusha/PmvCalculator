{
 "cells": [
  {
   "cell_type": "code",
   "execution_count": 107,
   "metadata": {},
   "outputs": [
    {
     "name": "stdout",
     "output_type": "stream",
     "text": [
      "Requirement already satisfied: pandas in c:\\users\\rog\\documents\\coding\\pmvcalculator\\venv\\lib\\site-packages (2.1.4)Note: you may need to restart the kernel to use updated packages.\n",
      "\n",
      "Requirement already satisfied: numpy<2,>=1.26.0 in c:\\users\\rog\\documents\\coding\\pmvcalculator\\venv\\lib\\site-packages (from pandas) (1.26.3)\n",
      "Requirement already satisfied: python-dateutil>=2.8.2 in c:\\users\\rog\\documents\\coding\\pmvcalculator\\venv\\lib\\site-packages (from pandas) (2.8.2)\n",
      "Requirement already satisfied: pytz>=2020.1 in c:\\users\\rog\\documents\\coding\\pmvcalculator\\venv\\lib\\site-packages (from pandas) (2023.3.post1)\n",
      "Requirement already satisfied: tzdata>=2022.1 in c:\\users\\rog\\documents\\coding\\pmvcalculator\\venv\\lib\\site-packages (from pandas) (2023.4)\n",
      "Requirement already satisfied: six>=1.5 in c:\\users\\rog\\documents\\coding\\pmvcalculator\\venv\\lib\\site-packages (from python-dateutil>=2.8.2->pandas) (1.16.0)\n"
     ]
    },
    {
     "name": "stderr",
     "output_type": "stream",
     "text": [
      "\n",
      "[notice] A new release of pip is available: 23.2.1 -> 23.3.2\n",
      "[notice] To update, run: python.exe -m pip install --upgrade pip\n"
     ]
    },
    {
     "name": "stdout",
     "output_type": "stream",
     "text": [
      "Requirement already satisfied: plotly in c:\\users\\rog\\documents\\coding\\pmvcalculator\\venv\\lib\\site-packages (5.18.0)\n",
      "Requirement already satisfied: tenacity>=6.2.0 in c:\\users\\rog\\documents\\coding\\pmvcalculator\\venv\\lib\\site-packages (from plotly) (8.2.3)\n",
      "Requirement already satisfied: packaging in c:\\users\\rog\\documents\\coding\\pmvcalculator\\venv\\lib\\site-packages (from plotly) (23.2)\n",
      "Note: you may need to restart the kernel to use updated packages.\n"
     ]
    },
    {
     "name": "stderr",
     "output_type": "stream",
     "text": [
      "\n",
      "[notice] A new release of pip is available: 23.2.1 -> 23.3.2\n",
      "[notice] To update, run: python.exe -m pip install --upgrade pip\n"
     ]
    }
   ],
   "source": [
    "# install packages\n",
    "%pip install pandas\n",
    "%pip install plotly"
   ]
  },
  {
   "cell_type": "code",
   "execution_count": 108,
   "metadata": {},
   "outputs": [],
   "source": [
    "# import packages\n",
    "import math"
   ]
  },
  {
   "cell_type": "markdown",
   "metadata": {},
   "source": [
    "### ASHRAE 55:2023 Method for Calculating PMV"
   ]
  },
  {
   "cell_type": "code",
   "execution_count": 109,
   "metadata": {},
   "outputs": [],
   "source": [
    "def calculate_clo(m: float, icl: float) -> float:\n",
    "    \"\"\"\n",
    "    Calculates the clo for a given metabolic rate and clothing insulation using ASHRAE 55:2023.\n",
    "    \n",
    "    Args:\n",
    "        m (float): metabolic rate in met unit\n",
    "        icl (float): clothing insulation in clo unit\n",
    "    \n",
    "    Return:\n",
    "        float: clo value to use in the PMV calculator\n",
    "    \"\"\"\n",
    "    if m < 1.2:\n",
    "        clo = icl\n",
    "\n",
    "    else:\n",
    "        clo = icl * (0.6 + 0.4 / m)\n",
    "\n",
    "    return clo"
   ]
  },
  {
   "cell_type": "code",
   "execution_count": null,
   "metadata": {},
   "outputs": [],
   "source": [
    "def calculate_vel(vav: float, vag:float, met: float) -> float:\n",
    "    \"\"\"\n",
    "    Calculate the air speed (m/s).\n",
    "\n",
    "    Args:\n",
    "        vav (float): average air velocity in m/s\n",
    "        vag (float): activity generated air velocity in m/s\n",
    "        met (float): metabolic rate in met\n",
    "\n",
    "    Return:\n",
    "        float: air speed in m/s\n",
    "    \"\"\"\n",
    "    vag = 0.3 * (met - 1) if met > 1 else 0\n",
    "    vel = vag + vav\n",
    "    return vel"
   ]
  },
  {
   "cell_type": "code",
   "execution_count": 110,
   "metadata": {},
   "outputs": [],
   "source": [
    "def calculate_pmv(ta: float, tr: float, vel: float, rh: float, met: float, clo: float, wme: float) -> dict:\n",
    "     \"\"\"\n",
    "     Calculate the PMV for given inputs using ASHRAE 55:2023. The air speed shouldn't be above 0.1 m/s.\n",
    "\n",
    "     Args:\n",
    "          ta (float): air temperature in C\n",
    "          tr (float): mean radiant temperature in C\n",
    "          vel(float): air speed in m/s\n",
    "          rh (float): relative humidity in %\n",
    "          met (float): metabolic rate in met unit\n",
    "          clo (float): clothing factor in clo unit (calculated using calculate_clo method)\n",
    "          wme (float): external work in met\n",
    "\n",
    "     Return:\n",
    "          dict: {\n",
    "               pmv: Predicted Mean Vote (PMV), \n",
    "               ppd: Predicted Precentage of Dissatisfied (PPD),\n",
    "               status: status of the calculation, 0 succeed, 1 error\n",
    "               }\n",
    "     \"\"\"\n",
    "     if met > 1:\n",
    "          pa = rh * 10. * math.exp(16.6536 - 4030.183 / (ta + 235.))\n",
    "          icl = 0.155 * clo # thermal insulation of the clothing in m2K/W\n",
    "          m = met * 58.15 # metabolic rate in W/m2\n",
    "          w = wme * 58.15 # extenal work in W/m2\n",
    "          mw = m - w # internal heat production in the humen body\n",
    "\n",
    "          if icl <= 0.078:\n",
    "               fcl = 1 + (1.29 * icl)\n",
    "          else:\n",
    "               fcl = 1.05 + (0.645 * icl)\n",
    "\n",
    "          # heat transfer coefficient by forced convection\n",
    "          hcf = 12.1 * math.sqrt(vel)\n",
    "          taa = ta + 273.\n",
    "          tra = tr + 273.\n",
    "          tcla = taa + (35.5 - ta) / (3.5 * icl + 0.1)\n",
    "          p1 = icl * fcl\n",
    "          p2 = p1 * 3.96\n",
    "          p3 = p1 * 100.\n",
    "          p4 = p1 * taa\n",
    "          p5 = 308.7 - 0.028 * mw + (p2 * math.pow(tra / 100, 4))\n",
    "          xn = tcla / 100.\n",
    "          xf = tcla / 50.\n",
    "          eps = 0.00015\n",
    "          n = 0\n",
    "\n",
    "          while abs(xn - xf) > eps:\n",
    "               xf = (xf + xn) / 2\n",
    "               hcn = 2.38 * math.pow(abs(100. * xf - taa), 0.25)\n",
    "               hc = hcf if hcf > hcn else hcn\n",
    "               xn = (p5 + p4 * hc - p2 * math.pow(xf, 4)) / (100. + p3 * hc)\n",
    "               n += 1\n",
    "               if n > 150:\n",
    "                    print (\"Max iterations exceeded\")\n",
    "                    return {\n",
    "                         'pmv': 0,\n",
    "                         'ppd': 0,\n",
    "                         'status': 1\n",
    "                         }\n",
    "\n",
    "          tcl = 100. * xn - 273.\n",
    "          \n",
    "          # heat loss diff. through skin\n",
    "          hl1 = 3.05 * 0.001 * (5733 - (6.99 * mw) - pa)\n",
    "\n",
    "          # heat loss by sweating\n",
    "          hl2 = 0.42 * (mw - 58.15) if (mw > 58.15) else 0\n",
    "\n",
    "          # latent respiration heat loss\n",
    "          hl3 = 1.7 * 0.00001 * m * (5867. - pa)\n",
    "          \n",
    "          # dry respiration heat loss\n",
    "          hl4 = 0.0014 * m * (34. - ta)\n",
    "          \n",
    "          # heat loss by radiation\n",
    "          hl5 = 3.96 * fcl * (math.pow(xn, 4) - math.pow(tra / 100., 4))\n",
    "\n",
    "          # heat loss by convection\n",
    "          hl6 = fcl * hc * (tcl - ta)\n",
    "\n",
    "          ts = 0.303 * math.exp(-0.036 * m) + 0.028\n",
    "          pmv = ts * (mw - hl1 - hl2 - hl3 - hl4 - hl5 - hl6)\n",
    "          ppd = 100 - 95 * math.exp(-0.03353 * math.pow(pmv, 4) - 0.2179 * math.pow(pmv, 2))\n",
    "\n",
    "          return {\n",
    "               'pmv': pmv,\n",
    "               'ppd': ppd,\n",
    "               'status': 0\n",
    "               }\n",
    "\n",
    "     else:\n",
    "          print(\"ASHRAE 55:2023 calculation does not available for metabolic rate less than 1\")\n",
    "          return {\n",
    "              'pmv': 0,\n",
    "              'ppd': 0,\n",
    "              'status': 1\n",
    "              }\n",
    "     \n",
    "     "
   ]
  },
  {
   "cell_type": "markdown",
   "metadata": {},
   "source": [
    "### Method Validation"
   ]
  },
  {
   "cell_type": "code",
   "execution_count": 111,
   "metadata": {},
   "outputs": [],
   "source": [
    "validation_list = [\n",
    "    {'ta': 19.6, 'rh': 86, 'tr': 19.6, 'vel': 0.1, 'met': 1.1, 'clo': 1, 'pmv': -0.47}, #1\n",
    "    {'ta': 23.9, 'rh': 66, 'tr': 23.9, 'vel': 0.1, 'met': 1.1, 'clo': 1, 'pmv': 0.48}, #2\n",
    "    {'ta': 25.7, 'rh': 15, 'tr': 25.7, 'vel': 0.1, 'met': 1.1, 'clo': 1, 'pmv': 0.53}, #3\n",
    "    {'ta': 21.2, 'rh': 20, 'tr': 21.2, 'vel': 0.1, 'met': 1.1, 'clo': 1, 'pmv': -0.48}, #4\n",
    "    {'ta': 23.6, 'rh': 67, 'tr': 23.6, 'vel': 0.1, 'met': 1.1, 'clo': 0.5, 'pmv': -0.47}, #5\n",
    "    {'ta': 26.8, 'rh': 56, 'tr': 26.8, 'vel': 0.1, 'met': 1.1, 'clo': 0.5, 'pmv': 0.52}, #6\n",
    "    {'ta': 27.9, 'rh': 13, 'tr': 27.9, 'vel': 0.1, 'met': 1.1, 'clo': 0.5, 'pmv': 0.5}, #7\n",
    "    {'ta': 24.7, 'rh': 16, 'tr': 24.7, 'vel': 0.1, 'met': 1.1, 'clo': 0.5, 'pmv': -0.49} #8\n",
    "]"
   ]
  },
  {
   "cell_type": "code",
   "execution_count": 112,
   "metadata": {},
   "outputs": [],
   "source": [
    "def test_pmv_calculation(ta: float, tr: float, vel: float, rh: float, met: float, clo: float, wme: float, test_pmv: float) -> dict:\n",
    "    \"\"\"\n",
    "    Test the PMV calculation method defined in the previous steps.\n",
    "\n",
    "     Args:\n",
    "          ta (float): air temperature in C\n",
    "          tr (float): mean radiant temperature in C\n",
    "          vel(float): air speed in m/s\n",
    "          rh (float): relative humidity in %\n",
    "          met (float): metabolic rate in met unit\n",
    "          clo (float): clothing factor in clo unit (calculated using calculate_clo method)\n",
    "          wme (float): external work in met\n",
    "          test_pmv (float): PMV value given in the validation table\n",
    "\n",
    "     Return:\n",
    "          dict: {\n",
    "               calculated_pmv: PMV value calculated using the cclculate_pmv method, \n",
    "               test_pmv: PMV given in the validation table,\n",
    "               deviation: prcentage deviation from the validation PMV\n",
    "               result: \"PASS\" or \"FAIL\" based on the deviation value, less than 10% concidered as \"PASS\"\n",
    "               status: status of the calculation, 0 succeed, 1 error\n",
    "               }\n",
    "    \"\"\"\n",
    "    pmv_result = calculate_pmv(ta=ta, tr=tr, vel=vel, rh=rh, met=met, clo=clo, wme=wme)\n",
    "\n",
    "    if pmv_result['status'] == 0:\n",
    "        pmv = pmv_result['pmv']\n",
    "        deviation = (pmv - test_pmv) / test_pmv * 100.\n",
    "        result = \"PASS\" if deviation < 10 else \"FAIL\"\n",
    "        return {\n",
    "            \"calculated_pmv\": pmv, \n",
    "            \"test_pmv\": test_pmv, \n",
    "            \"deviation\": deviation, \n",
    "            \"result\": result, \n",
    "            \"status\": pmv_result['status']\n",
    "            }\n",
    "    \n",
    "    else:\n",
    "        return {\n",
    "            \"calculated_pmv\": None, \n",
    "            \"test_pmv\": None, \n",
    "            \"deviation\": None, \n",
    "            \"result\": None, \n",
    "            \"status\": pmv_result['status']\n",
    "            }"
   ]
  },
  {
   "cell_type": "code",
   "execution_count": 113,
   "metadata": {},
   "outputs": [
    {
     "name": "stdout",
     "output_type": "stream",
     "text": [
      "Test Number: 0\n",
      " Calculated PMV: -0.47467198128887644\n",
      " Given PMV: -0.47\n",
      " Deviation: 0.9940385721013767%\n",
      " Result: PASS\n",
      "Test Number: 1\n",
      " Calculated PMV: 0.47727708611081504\n",
      " Given PMV: 0.48\n",
      " Deviation: -0.5672737269135295%\n",
      " Result: PASS\n",
      "Test Number: 2\n",
      " Calculated PMV: 0.5275205662501071\n",
      " Given PMV: 0.53\n",
      " Deviation: -0.46781768865903783%\n",
      " Result: PASS\n",
      "Test Number: 3\n",
      " Calculated PMV: -0.4750504818720359\n",
      " Given PMV: -0.48\n",
      " Deviation: -1.0311496099925146%\n",
      " Result: PASS\n",
      "Test Number: 4\n",
      " Calculated PMV: -0.4721506758411812\n",
      " Given PMV: -0.47\n",
      " Deviation: 0.45759060450664396%\n",
      " Result: PASS\n",
      "Test Number: 5\n",
      " Calculated PMV: 0.5170046862594345\n",
      " Given PMV: 0.52\n",
      " Deviation: -0.5760218731856726%\n",
      " Result: PASS\n",
      "Test Number: 6\n",
      " Calculated PMV: 0.5002402909067151\n",
      " Given PMV: 0.5\n",
      " Deviation: 0.04805818134301365%\n",
      " Result: PASS\n",
      "Test Number: 7\n",
      " Calculated PMV: -0.4860260068301159\n",
      " Given PMV: -0.49\n",
      " Deviation: -0.8110190142620645%\n",
      " Result: PASS\n"
     ]
    }
   ],
   "source": [
    "for n, item in enumerate(validation_list):\n",
    "    test_result = test_pmv_calculation(ta = item['ta'], tr = item['tr'], vel = item['vel'], rh = item['rh'], met = item['met'], clo = item['clo'], wme = 0, test_pmv = item['pmv'])\n",
    "    print(f'Test Number: {n}\\n Calculated PMV: {test_result['calculated_pmv']}\\n Given PMV: {test_result['test_pmv']}\\n Deviation: {test_result['deviation']}%\\n Result: {test_result['result']}')"
   ]
  },
  {
   "cell_type": "code",
   "execution_count": null,
   "metadata": {},
   "outputs": [],
   "source": []
  }
 ],
 "metadata": {
  "kernelspec": {
   "display_name": "venv",
   "language": "python",
   "name": "python3"
  },
  "language_info": {
   "codemirror_mode": {
    "name": "ipython",
    "version": 3
   },
   "file_extension": ".py",
   "mimetype": "text/x-python",
   "name": "python",
   "nbconvert_exporter": "python",
   "pygments_lexer": "ipython3",
   "version": "3.12.1"
  }
 },
 "nbformat": 4,
 "nbformat_minor": 2
}
