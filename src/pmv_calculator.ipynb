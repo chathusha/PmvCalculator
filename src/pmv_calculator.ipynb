{
 "cells": [
  {
   "cell_type": "code",
   "execution_count": 1,
   "metadata": {},
   "outputs": [
    {
     "name": "stdout",
     "output_type": "stream",
     "text": [
      "Requirement already satisfied: pandas in c:\\users\\rog\\onedrive\\01. documents\\coding\\pmvcalculator\\venv\\lib\\site-packages (2.1.4)Note: you may need to restart the kernel to use updated packages.\n",
      "\n",
      "Requirement already satisfied: numpy<2,>=1.26.0 in c:\\users\\rog\\onedrive\\01. documents\\coding\\pmvcalculator\\venv\\lib\\site-packages (from pandas) (1.26.3)\n",
      "Requirement already satisfied: python-dateutil>=2.8.2 in c:\\users\\rog\\onedrive\\01. documents\\coding\\pmvcalculator\\venv\\lib\\site-packages (from pandas) (2.8.2)\n",
      "Requirement already satisfied: pytz>=2020.1 in c:\\users\\rog\\onedrive\\01. documents\\coding\\pmvcalculator\\venv\\lib\\site-packages (from pandas) (2023.3.post1)\n",
      "Requirement already satisfied: tzdata>=2022.1 in c:\\users\\rog\\onedrive\\01. documents\\coding\\pmvcalculator\\venv\\lib\\site-packages (from pandas) (2023.4)\n",
      "Requirement already satisfied: six>=1.5 in c:\\users\\rog\\onedrive\\01. documents\\coding\\pmvcalculator\\venv\\lib\\site-packages (from python-dateutil>=2.8.2->pandas) (1.16.0)\n"
     ]
    },
    {
     "name": "stderr",
     "output_type": "stream",
     "text": [
      "\n",
      "[notice] A new release of pip is available: 23.2.1 -> 23.3.2\n",
      "[notice] To update, run: python.exe -m pip install --upgrade pip\n"
     ]
    },
    {
     "name": "stdout",
     "output_type": "stream",
     "text": [
      "Requirement already satisfied: plotly in c:\\users\\rog\\onedrive\\01. documents\\coding\\pmvcalculator\\venv\\lib\\site-packages (5.18.0)\n",
      "Requirement already satisfied: tenacity>=6.2.0 in c:\\users\\rog\\onedrive\\01. documents\\coding\\pmvcalculator\\venv\\lib\\site-packages (from plotly) (8.2.3)\n",
      "Requirement already satisfied: packaging in c:\\users\\rog\\onedrive\\01. documents\\coding\\pmvcalculator\\venv\\lib\\site-packages (from plotly) (23.2)\n",
      "Note: you may need to restart the kernel to use updated packages.\n"
     ]
    },
    {
     "name": "stderr",
     "output_type": "stream",
     "text": [
      "\n",
      "[notice] A new release of pip is available: 23.2.1 -> 23.3.2\n",
      "[notice] To update, run: python.exe -m pip install --upgrade pip\n"
     ]
    }
   ],
   "source": [
    "# install packages\n",
    "%pip install pandas\n",
    "%pip install plotly"
   ]
  },
  {
   "cell_type": "code",
   "execution_count": 2,
   "metadata": {},
   "outputs": [],
   "source": [
    "# import packages\n",
    "import pandas\n",
    "import plotly.express\n",
    "import math"
   ]
  },
  {
   "cell_type": "code",
   "execution_count": 3,
   "metadata": {},
   "outputs": [],
   "source": [
    "def calculate_clo(m: float, icl: float) -> float:\n",
    "    \"\"\"\n",
    "    Calculates the clo for a given metabolic rate and clothing insulation using ASHRAE 55:2023.\n",
    "    \n",
    "    Args:\n",
    "        m (float): metabolic rate in met unit\n",
    "        icl (float): clothing insulation in clo unit\n",
    "    \n",
    "    Return:\n",
    "        float: clo value to use in the PMV calculator\n",
    "    \"\"\"\n",
    "    if m < 1.2:\n",
    "        clo = icl\n",
    "\n",
    "    else:\n",
    "        clo = icl * (0.6 + 0.4 / m)\n",
    "\n",
    "    return clo"
   ]
  },
  {
   "cell_type": "code",
   "execution_count": 5,
   "metadata": {},
   "outputs": [],
   "source": [
    "def calculate_pmv(ta: float, tr: float, vav: float, rh: float, met: float, clo: float, wme: float) -> dict:\n",
    "     \"\"\"\n",
    "     Calculate the PMV for given inputs using ASHRAE 55:2023.\n",
    "\n",
    "     Args:\n",
    "          ta (float): air temperature in C\n",
    "          tr (float): mean radiant temperature in C\n",
    "          vav(float): average air speed in m/s\n",
    "          vel_act (float): activity-generated air speed m/s\n",
    "          rh (float): relative humidity in %\n",
    "          met (float): metabolic rate in met unit\n",
    "          clo (float): clothing factor in clo unit (calculated using calculate_clo method)\n",
    "          wme (float): external work in met\n",
    "\n",
    "     Return:\n",
    "          dict: {\n",
    "               pmv: Predicted Mean Vote (PMV), \n",
    "               ppd: Predicted Precentage of Dissatisfied (PPD)\n",
    "               }\n",
    "     \"\"\"\n",
    "     if met > 1:\n",
    "          pa = rh * 10 * math.exp(16.6536 - 4030.183 / (ta + 235))\n",
    "          icl = 0.155 * clo # thermal insulation of the clothing in m2K/W\n",
    "          m = met * 58.15 # metabolic rate in W/m2\n",
    "          w = wme * 58.15 # extenal work in W/m2\n",
    "          mw = m - w # internal heat production in the humen body\n",
    "          vag = 0.3 * (met - 1) # activity generated metabolic rate\n",
    "          vel = vav + vag\n",
    "\n",
    "          if icl <= 0.078:\n",
    "               fcl = 1 + (1.29 * icl)\n",
    "          else:\n",
    "               fcl = 1.05 + (0.645 * icl)\n",
    "\n",
    "          # heat transfer coefficient by forced convection\n",
    "          hcf = 12.1 * math.sqrt(vel)\n",
    "          taa = ta + 273\n",
    "          tra = tr + 273\n",
    "          tcla = taa + (35.5 - ta) / (3.5 * icl + 0.1)\n",
    "          p1 = icl * fcl\n",
    "\n",
    "     else:\n",
    "          pmv = 0.0\n",
    "          ppd = 0.0\n",
    "          print(\"ASHRAE 55:2023 calculation does not available for metabolic rate less than 1\")\n",
    "     \n",
    "     return {\n",
    "          \"pmv\": pmv,\n",
    "          \"ppd\": ppd\n",
    "          }"
   ]
  },
  {
   "cell_type": "code",
   "execution_count": null,
   "metadata": {},
   "outputs": [],
   "source": []
  }
 ],
 "metadata": {
  "kernelspec": {
   "display_name": "venv",
   "language": "python",
   "name": "python3"
  },
  "language_info": {
   "codemirror_mode": {
    "name": "ipython",
    "version": 3
   },
   "file_extension": ".py",
   "mimetype": "text/x-python",
   "name": "python",
   "nbconvert_exporter": "python",
   "pygments_lexer": "ipython3",
   "version": "3.12.1"
  }
 },
 "nbformat": 4,
 "nbformat_minor": 2
}
